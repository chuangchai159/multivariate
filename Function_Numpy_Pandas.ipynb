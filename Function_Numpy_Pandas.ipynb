{
  "nbformat": 4,
  "nbformat_minor": 0,
  "metadata": {
    "colab": {
      "name": "Function_Numpy_Pandas.ipynb",
      "provenance": [],
      "authorship_tag": "ABX9TyOEv0NdygqlCTfu1EagSWv5",
      "include_colab_link": true
    },
    "kernelspec": {
      "name": "python3",
      "display_name": "Python 3"
    }
  },
  "cells": [
    {
      "cell_type": "markdown",
      "metadata": {
        "id": "view-in-github",
        "colab_type": "text"
      },
      "source": [
        "<a href=\"https://colab.research.google.com/github/chuangchai159/multivariate/blob/main/Function_Numpy_Pandas.ipynb\" target=\"_parent\"><img src=\"https://colab.research.google.com/assets/colab-badge.svg\" alt=\"Open In Colab\"/></a>"
      ]
    },
    {
      "cell_type": "markdown",
      "metadata": {
        "id": "bTBylAOPtHcc"
      },
      "source": [
        "#Function"
      ]
    },
    {
      "cell_type": "markdown",
      "metadata": {
        "id": "fi9JMEAQt7BB"
      },
      "source": [
        "```python\r\n",
        "def function_name(_Input_) : \r\n",
        "    do_something with _Input_ to get _Output_\r\n",
        "    return _Output_\r\n",
        "```\r\n",
        "\r\n",
        "*เอียง*\r\n",
        "\r\n",
        "```backtick กดค้างตรงที่เปลี่ยนภาษา"
      ]
    },
    {
      "cell_type": "markdown",
      "metadata": {
        "id": "XtKWMaH7uJf2"
      },
      "source": [
        "function มีส่วนสำคัญทั้งหมด 4 ส่วน\r\n",
        "  1. บอก python ว่าเราจะเขียนฟังก์ชัน ชื่ออะไร def function_name(): (ขาดไม่ได้)\r\n",
        "  2. กำหนดตัวแปรที่จะเป็น input output (ขาดได้)\r\n",
        "  3. ส่นประมวลผล do_something with _Input_ to get _Output_ (ขาดไม่ได้)\r\n",
        "  4. ส่วน output return _Output_ (ขาดได้)\r\n",
        "\r\n",
        "เราใช้เว้นวรรค (indent) เพื่อบอกขอบเขตของ code\r\n",
        "\r\n",
        "หน้าที่คือรับ input และทำตามกระบวนการละก็ได้ Output ออกมา"
      ]
    },
    {
      "cell_type": "markdown",
      "metadata": {
        "id": "-op4DBs_ujRG"
      },
      "source": [
        "#สร้างฟังก์ชัน"
      ]
    },
    {
      "cell_type": "code",
      "metadata": {
        "colab": {
          "base_uri": "https://localhost:8080/"
        },
        "id": "fRgsdZi9tKrB",
        "outputId": "54b4a768-4b62-4816-b31e-1c807b2119d3"
      },
      "source": [
        "def print_name(name,surname,ID) : # input มีกี่ตัวก็ได้/ไม่มีก็ได้\r\n",
        "  st = f'ชื่อ {name} นามสกุล {surname} รหัส {ID}'\r\n",
        "  return st\r\n",
        "print('outside function')"
      ],
      "execution_count": 2,
      "outputs": [
        {
          "output_type": "stream",
          "text": [
            "outside function\n"
          ],
          "name": "stdout"
        }
      ]
    },
    {
      "cell_type": "markdown",
      "metadata": {
        "id": "bgzGnx4uuqOh"
      },
      "source": [
        "##เรียกใช้ฟังก์ชัน"
      ]
    },
    {
      "cell_type": "code",
      "metadata": {
        "colab": {
          "base_uri": "https://localhost:8080/",
          "height": 35
        },
        "id": "-KCYbisvumdI",
        "outputId": "48ffbbd6-5e19-4f7f-9c01-113ef698769a"
      },
      "source": [
        "print_name('ช่วงชัย','จันทร์มณี','623020519-5')"
      ],
      "execution_count": 3,
      "outputs": [
        {
          "output_type": "execute_result",
          "data": {
            "application/vnd.google.colaboratory.intrinsic+json": {
              "type": "string"
            },
            "text/plain": [
              "'ชื่อ ช่วงชัย นามสกุล จันทร์มณี รหัส 623020519-5'"
            ]
          },
          "metadata": {
            "tags": []
          },
          "execution_count": 3
        }
      ]
    },
    {
      "cell_type": "code",
      "metadata": {
        "colab": {
          "base_uri": "https://localhost:8080/"
        },
        "id": "eJcITtzeux5R",
        "outputId": "26b3d202-e9ca-4941-b342-d4b173756506"
      },
      "source": [
        "output_string = print_name('ช่วงชัย','จันทร์มณี','ุ623020519-5')\r\n",
        "print(output_string)"
      ],
      "execution_count": 4,
      "outputs": [
        {
          "output_type": "stream",
          "text": [
            "ชื่อ ช่วงชัย นามสกุล จันทร์มณี รหัส ุ623020519-5\n"
          ],
          "name": "stdout"
        }
      ]
    },
    {
      "cell_type": "markdown",
      "metadata": {
        "id": "vqbtxWtpu-V1"
      },
      "source": [
        "##ฟังก์ชันไม่จำเป็นต้องมี output"
      ]
    },
    {
      "cell_type": "code",
      "metadata": {
        "id": "zBrDssPPvDZU"
      },
      "source": [
        "def print_name2(surname,ID,name) :\r\n",
        "  st = f'ชื่อ {name} นามสกุล {surname} รหัส {ID}'\r\n",
        "  print(st)"
      ],
      "execution_count": 5,
      "outputs": []
    },
    {
      "cell_type": "code",
      "metadata": {
        "colab": {
          "base_uri": "https://localhost:8080/"
        },
        "id": "vlQDAKgqu7cS",
        "outputId": "882e0e10-6fc5-404a-c4e8-0aa392c6718c"
      },
      "source": [
        "print_name2('ช่วงชัย','จันทร์มณี','ุ623020519-5')"
      ],
      "execution_count": 6,
      "outputs": [
        {
          "output_type": "stream",
          "text": [
            "ชื่อ ุ623020519-5 นามสกุล ช่วงชัย รหัส จันทร์มณี\n"
          ],
          "name": "stdout"
        }
      ]
    },
    {
      "cell_type": "code",
      "metadata": {
        "colab": {
          "base_uri": "https://localhost:8080/"
        },
        "id": "bWa7s3Y_vL0h",
        "outputId": "00517056-1103-4294-c075-8035f1136c0d"
      },
      "source": [
        "op2 = print_name2('ช่วงชัย','จันทร์มณี','623020519-5')"
      ],
      "execution_count": 7,
      "outputs": [
        {
          "output_type": "stream",
          "text": [
            "ชื่อ 623020519-5 นามสกุล ช่วงชัย รหัส จันทร์มณี\n"
          ],
          "name": "stdout"
        }
      ]
    },
    {
      "cell_type": "code",
      "metadata": {
        "colab": {
          "base_uri": "https://localhost:8080/"
        },
        "id": "QdF19bp3vVSY",
        "outputId": "9a63a7f1-2006-424d-d64b-de2d8e06cb44"
      },
      "source": [
        "print(op2)"
      ],
      "execution_count": 8,
      "outputs": [
        {
          "output_type": "stream",
          "text": [
            "None\n"
          ],
          "name": "stdout"
        }
      ]
    },
    {
      "cell_type": "markdown",
      "metadata": {
        "id": "yk9JYPZKvYb7"
      },
      "source": [
        "###ฟังก์ชันไม่จำเป็นต้องมี input"
      ]
    },
    {
      "cell_type": "code",
      "metadata": {
        "id": "9Dp0tXhAvWmR"
      },
      "source": [
        "def Pi() :\r\n",
        "  return 3.14159265359"
      ],
      "execution_count": 9,
      "outputs": []
    },
    {
      "cell_type": "code",
      "metadata": {
        "colab": {
          "base_uri": "https://localhost:8080/"
        },
        "id": "zBlAO02Tvf7C",
        "outputId": "e3f68b68-a41f-4b46-ff0d-1cb20ca8a41b"
      },
      "source": [
        "# คำนวณพื้นที่วงกลมที่มีขนาดเส้นผ่าศูนย์กลางเท่ากับ 3\r\n",
        "Pi()*(1.5**2)"
      ],
      "execution_count": 10,
      "outputs": [
        {
          "output_type": "execute_result",
          "data": {
            "text/plain": [
              "7.0685834705775"
            ]
          },
          "metadata": {
            "tags": []
          },
          "execution_count": 10
        }
      ]
    },
    {
      "cell_type": "code",
      "metadata": {
        "id": "aSkbJkk3vhgB"
      },
      "source": [
        "def print_my_name():\r\n",
        "    print('ช่วงชัย จันทร์มณี 623020519-5')"
      ],
      "execution_count": 11,
      "outputs": []
    },
    {
      "cell_type": "code",
      "metadata": {
        "colab": {
          "base_uri": "https://localhost:8080/"
        },
        "id": "rNcxbHPcvpiw",
        "outputId": "4fe4eb55-8c03-45b3-9f65-7db55467106f"
      },
      "source": [
        "print_my_name()"
      ],
      "execution_count": 12,
      "outputs": [
        {
          "output_type": "stream",
          "text": [
            "ช่วงชัย จันทร์มณี 623020519-5\n"
          ],
          "name": "stdout"
        }
      ]
    },
    {
      "cell_type": "markdown",
      "metadata": {
        "id": "_dMayxAzvtrf"
      },
      "source": [
        "###input ของ function ใน python มี2แบบ input ที่จำเป็นต้องใส่ (มีค่า default)\r\n",
        "เราต้องเรียง input ที่จำเป็นต้องใส่ขึ้นก่อน"
      ]
    },
    {
      "cell_type": "code",
      "metadata": {
        "id": "jlLBtIESvwoq"
      },
      "source": [
        "def print_2lines_default(name, surname, ID, grade='F'):\r\n",
        "    st = f'ชื่อ {name} นามสกุล {surname} รหัส {ID}'\r\n",
        "    print(st)\r\n",
        "    st2=f'เกรดวิชา Multivariate >>> {grade}'\r\n",
        "    print(st2)"
      ],
      "execution_count": 13,
      "outputs": []
    },
    {
      "cell_type": "code",
      "metadata": {
        "colab": {
          "base_uri": "https://localhost:8080/"
        },
        "id": "Gtt56pO7vrj4",
        "outputId": "f5a6683a-586b-49bb-9ded-d8c134bb0ac2"
      },
      "source": [
        "print_2lines_default('ช่วงชัย','จันทร์มณี','623020519-5')"
      ],
      "execution_count": 15,
      "outputs": [
        {
          "output_type": "stream",
          "text": [
            "ชื่อ ช่วงชัย นามสกุล จันทร์มณี รหัส 623020519-5\n",
            "เกรดวิชา Multivariate >>> F\n"
          ],
          "name": "stdout"
        }
      ]
    },
    {
      "cell_type": "code",
      "metadata": {
        "colab": {
          "base_uri": "https://localhost:8080/"
        },
        "id": "Wey7zIpKv04f",
        "outputId": "10ef7e2f-1f54-433a-efc4-e3b48d7777a7"
      },
      "source": [
        "print_2lines_default('ช่วงชัย','จันทร์มณี','623020519-5','A')"
      ],
      "execution_count": 17,
      "outputs": [
        {
          "output_type": "stream",
          "text": [
            "ชื่อ ช่วงชัย นามสกุล จันทร์มณี รหัส 623020519-5\n",
            "เกรดวิชา Multivariate >>> A\n"
          ],
          "name": "stdout"
        }
      ]
    },
    {
      "cell_type": "markdown",
      "metadata": {
        "id": "cXjknSUqw512"
      },
      "source": [
        "###เราสามารถเรียกฟังก์ชันโดยใช้ชื่อตัวแปรของฟังก์ชันช่วยได้"
      ]
    },
    {
      "cell_type": "code",
      "metadata": {
        "colab": {
          "base_uri": "https://localhost:8080/"
        },
        "id": "IHrrE8rOw19p",
        "outputId": "ca74e2b0-5ae7-44fb-d526-7a04c736fddc"
      },
      "source": [
        "print_name2(name='ช่วงชัย' , surname='จันทร์มณี' , ID='623020519-5')"
      ],
      "execution_count": 19,
      "outputs": [
        {
          "output_type": "stream",
          "text": [
            "ชื่อ ช่วงชัย นามสกุล จันทร์มณี รหัส 623020519-5\n"
          ],
          "name": "stdout"
        }
      ]
    },
    {
      "cell_type": "markdown",
      "metadata": {
        "id": "wzedx4lUxKQl"
      },
      "source": [
        "##HW3 ให้เขียน function คำนวณจำนวณวินาทีจากเวลาต่อไปนี้\r\n",
        "\r\n",
        "'14-15-31'\r\n",
        "\r\n",
        "'13-00-01'\r\n",
        "\r\n",
        "'05-49-44'\r\n",
        "\r\n",
        "'00-00-16'\r\n",
        "\r\n",
        "และ print ให้สวยงาม"
      ]
    },
    {
      "cell_type": "code",
      "metadata": {
        "id": "MEQNEfAmxFrx"
      },
      "source": [
        "def function_q (times):\r\n",
        "    q = f'เวลาทั้งหมด = {times}'\r\n",
        "    print(q)\r\n",
        "    times_sp = times.split('-')\r\n",
        "    h = int(times_sp[0])*3600\r\n",
        "    m = int(times_sp[1])*60\r\n",
        "    s = int(times_sp[2])\r\n",
        "    aq = h+m+s\r\n",
        "    print(f'คำนวณเป็นวินาทีได้เท่ากับ {aq} วินาที')"
      ],
      "execution_count": 20,
      "outputs": []
    },
    {
      "cell_type": "code",
      "metadata": {
        "colab": {
          "base_uri": "https://localhost:8080/"
        },
        "id": "nOvueZEJxSkJ",
        "outputId": "1f905a6d-8e88-4cfd-9e3c-21fae4f90f30"
      },
      "source": [
        "function_q('14-15-31')"
      ],
      "execution_count": 21,
      "outputs": [
        {
          "output_type": "stream",
          "text": [
            "เวลาทั้งหมด = 14-15-31\n",
            "คำนวณเป็นวินาทีได้เท่ากับ 51331 วินาที\n"
          ],
          "name": "stdout"
        }
      ]
    },
    {
      "cell_type": "code",
      "metadata": {
        "colab": {
          "base_uri": "https://localhost:8080/"
        },
        "id": "BTatG8jrxWbP",
        "outputId": "ac6df9b1-8d56-407d-ddc0-5705a95424fa"
      },
      "source": [
        "function_q('13-00-01')"
      ],
      "execution_count": 22,
      "outputs": [
        {
          "output_type": "stream",
          "text": [
            "เวลาทั้งหมด = 13-00-01\n",
            "คำนวณเป็นวินาทีได้เท่ากับ 46801 วินาที\n"
          ],
          "name": "stdout"
        }
      ]
    },
    {
      "cell_type": "code",
      "metadata": {
        "colab": {
          "base_uri": "https://localhost:8080/"
        },
        "id": "dmebcOapxYQX",
        "outputId": "ebdf9141-7f17-4ca4-9594-d87dc7eebe6b"
      },
      "source": [
        "function_q('05-49-44')"
      ],
      "execution_count": 23,
      "outputs": [
        {
          "output_type": "stream",
          "text": [
            "เวลาทั้งหมด = 05-49-44\n",
            "คำนวณเป็นวินาทีได้เท่ากับ 20984 วินาที\n"
          ],
          "name": "stdout"
        }
      ]
    },
    {
      "cell_type": "code",
      "metadata": {
        "colab": {
          "base_uri": "https://localhost:8080/"
        },
        "id": "OZsLjhDZxZtH",
        "outputId": "87405e44-9d40-4674-9721-c2fb37e7bc05"
      },
      "source": [
        "function_q('00-00-16')"
      ],
      "execution_count": 24,
      "outputs": [
        {
          "output_type": "stream",
          "text": [
            "เวลาทั้งหมด = 00-00-16\n",
            "คำนวณเป็นวินาทีได้เท่ากับ 16 วินาที\n"
          ],
          "name": "stdout"
        }
      ]
    },
    {
      "cell_type": "code",
      "metadata": {
        "id": "yJk_naAVxU2C"
      },
      "source": [
        ""
      ],
      "execution_count": null,
      "outputs": []
    }
  ]
}