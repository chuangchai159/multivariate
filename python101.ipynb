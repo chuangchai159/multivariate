{
  "nbformat": 4,
  "nbformat_minor": 0,
  "metadata": {
    "colab": {
      "name": "python101.ipynb",
      "provenance": [],
      "collapsed_sections": [],
      "authorship_tag": "ABX9TyO/9QZml466RKedpyeLQbcg",
      "include_colab_link": true
    },
    "kernelspec": {
      "name": "python3",
      "display_name": "Python 3"
    }
  },
  "cells": [
    {
      "cell_type": "markdown",
      "metadata": {
        "id": "view-in-github",
        "colab_type": "text"
      },
      "source": [
        "<a href=\"https://colab.research.google.com/github/chuangchai159/multivariate/blob/main/python101.ipynb\" target=\"_parent\"><img src=\"https://colab.research.google.com/assets/colab-badge.svg\" alt=\"Open In Colab\"/></a>"
      ]
    },
    {
      "cell_type": "markdown",
      "metadata": {
        "id": "whjTBU5qLmZ6"
      },
      "source": [
        "ตัวแปร variable"
      ]
    },
    {
      "cell_type": "markdown",
      "metadata": {
        "id": "60z88VK2L8eE"
      },
      "source": [
        "หลักการตั้งชื่อตัวแปรเบื้องต้น\r\n",
        "1. ตั้งให้สื่อ\r\n",
        "2. ภาษาอังกฤษ\r\n",
        "3. ใช้ตัวเลยได้แต่ห้ามขึ้นต้นด้วยตัวเลข\r\n",
        "4. ห้ามเว้นวรรค\r\n",
        "5. ตัวเลขกับตัวใหญ่ต่างกัน\r\n"
      ]
    },
    {
      "cell_type": "code",
      "metadata": {
        "id": "Eyy1KCqcMRAl"
      },
      "source": [
        "pi = 3.1459\r\n"
      ],
      "execution_count": null,
      "outputs": []
    },
    {
      "cell_type": "code",
      "metadata": {
        "colab": {
          "base_uri": "https://localhost:8080/"
        },
        "id": "MuQcwBLEL3-X",
        "outputId": "d23c4ba5-8073-427a-edd8-071f7140ff47"
      },
      "source": [
        "pi"
      ],
      "execution_count": null,
      "outputs": [
        {
          "output_type": "execute_result",
          "data": {
            "text/plain": [
              "3.1459"
            ]
          },
          "metadata": {
            "tags": []
          },
          "execution_count": 4
        }
      ]
    },
    {
      "cell_type": "code",
      "metadata": {
        "colab": {
          "base_uri": "https://localhost:8080/"
        },
        "id": "p8yo7eBSN9T5",
        "outputId": "14bb337c-5e1e-4e9b-84de-ad1d84b367fd"
      },
      "source": [
        "a = 1234567\r\n",
        "print(a)  #พิมพ์ได้หลายบรรทัด # คือ comment\r\n"
      ],
      "execution_count": null,
      "outputs": [
        {
          "output_type": "stream",
          "text": [
            "1234567\n"
          ],
          "name": "stdout"
        }
      ]
    },
    {
      "cell_type": "markdown",
      "metadata": {
        "id": "v__L5Jd5OYrS"
      },
      "source": [
        "#ชนิดของตัวแปร 3 ชนิด\r\n",
        "\r\n"
      ]
    },
    {
      "cell_type": "markdown",
      "metadata": {
        "id": "032fm8e8OzRi"
      },
      "source": [
        "##1.จำนวนเต็ม(integer,int)"
      ]
    },
    {
      "cell_type": "code",
      "metadata": {
        "colab": {
          "base_uri": "https://localhost:8080/"
        },
        "id": "CZr6mBa_O6Pg",
        "outputId": "bcb2406a-3e0a-452e-9bac-c63644d1f152"
      },
      "source": [
        "aaa = 1092\r\n",
        "print(aaa)"
      ],
      "execution_count": 2,
      "outputs": [
        {
          "output_type": "stream",
          "text": [
            "1092\n"
          ],
          "name": "stdout"
        }
      ]
    },
    {
      "cell_type": "markdown",
      "metadata": {
        "id": "wzpggBVIOzAs"
      },
      "source": [
        "##2.จำนวนจริง (float)"
      ]
    },
    {
      "cell_type": "code",
      "metadata": {
        "colab": {
          "base_uri": "https://localhost:8080/"
        },
        "id": "F-67pG8mOwfG",
        "outputId": "12cd337a-6d2a-4c86-93d6-d12af6ffdbb4"
      },
      "source": [
        "bbb = 11.\r\n",
        "print(bbb)"
      ],
      "execution_count": null,
      "outputs": [
        {
          "output_type": "stream",
          "text": [
            "11.0\n"
          ],
          "name": "stdout"
        }
      ]
    },
    {
      "cell_type": "markdown",
      "metadata": {
        "id": "9fVbBF8gPR3T"
      },
      "source": [
        "##3.ตัวอักษรและข้อความ(character และ text, string)"
      ]
    },
    {
      "cell_type": "code",
      "metadata": {
        "colab": {
          "base_uri": "https://localhost:8080/"
        },
        "id": "jBs-LH3DPOYR",
        "outputId": "e57331b0-07bd-4ca8-87b3-429523ffd8ac"
      },
      "source": [
        "ccc = '1234' # ใช้ single quote ' หรือ double quote \" ล้อมรอบตัวอักษรเพื่อบอกว่าเป็น character string\r\n",
        "print(ccc)\r\n"
      ],
      "execution_count": null,
      "outputs": [
        {
          "output_type": "stream",
          "text": [
            "1234\n"
          ],
          "name": "stdout"
        }
      ]
    },
    {
      "cell_type": "code",
      "metadata": {
        "id": "ia0aps7wQFVp"
      },
      "source": [
        "aaa + bbb # float + int = float ทำได้"
      ],
      "execution_count": null,
      "outputs": []
    },
    {
      "cell_type": "code",
      "metadata": {
        "colab": {
          "base_uri": "https://localhost:8080/",
          "height": 35
        },
        "id": "Gl4ZGu0SQwYW",
        "outputId": "76281632-d076-4818-a976-a2d5889729ca"
      },
      "source": [
        "bbb + ccc #ไม่ได้"
      ],
      "execution_count": null,
      "outputs": [
        {
          "output_type": "execute_result",
          "data": {
            "application/vnd.google.colaboratory.intrinsic+json": {
              "type": "string"
            },
            "text/plain": [
              "'1234'"
            ]
          },
          "metadata": {
            "tags": []
          },
          "execution_count": 22
        }
      ]
    },
    {
      "cell_type": "code",
      "metadata": {
        "colab": {
          "base_uri": "https://localhost:8080/"
        },
        "id": "u0aSq-dbQRf3",
        "outputId": "e4e19675-43b0-4d8f-b019-1b890187be95"
      },
      "source": [
        "aaa + int(ccc) # int + float = float\r\n"
      ],
      "execution_count": null,
      "outputs": [
        {
          "output_type": "execute_result",
          "data": {
            "text/plain": [
              "2326"
            ]
          },
          "metadata": {
            "tags": []
          },
          "execution_count": 25
        }
      ]
    },
    {
      "cell_type": "code",
      "metadata": {
        "colab": {
          "base_uri": "https://localhost:8080/"
        },
        "id": "MVessj4BRYN7",
        "outputId": "8816797b-bc71-4aa9-a526-5001e6ee181f"
      },
      "source": [
        "aaa + float(ccc)"
      ],
      "execution_count": null,
      "outputs": [
        {
          "output_type": "execute_result",
          "data": {
            "text/plain": [
              "2326.0"
            ]
          },
          "metadata": {
            "tags": []
          },
          "execution_count": 26
        }
      ]
    },
    {
      "cell_type": "code",
      "metadata": {
        "colab": {
          "base_uri": "https://localhost:8080/",
          "height": 35
        },
        "id": "MKdy3sxcRqDc",
        "outputId": "966bb114-8df9-480c-95d5-95a544b812ef"
      },
      "source": [
        "str(aaa)\r\n"
      ],
      "execution_count": null,
      "outputs": [
        {
          "output_type": "execute_result",
          "data": {
            "application/vnd.google.colaboratory.intrinsic+json": {
              "type": "string"
            },
            "text/plain": [
              "'1092'"
            ]
          },
          "metadata": {
            "tags": []
          },
          "execution_count": 28
        }
      ]
    },
    {
      "cell_type": "markdown",
      "metadata": {
        "id": "etSslV2vSVfm"
      },
      "source": [
        "#การดำเนินการ Operation(Operators +,-,*,/,%)\r\n"
      ]
    },
    {
      "cell_type": "code",
      "metadata": {
        "colab": {
          "base_uri": "https://localhost:8080/",
          "height": 163
        },
        "id": "CG_RMEbiRtVS",
        "outputId": "3daee410-8ac4-4ffa-eeb2-926e872df73b"
      },
      "source": [
        "a+b  #error ตัวแปรไม่มี"
      ],
      "execution_count": null,
      "outputs": [
        {
          "output_type": "error",
          "ename": "NameError",
          "evalue": "ignored",
          "traceback": [
            "\u001b[0;31m---------------------------------------------------------------------------\u001b[0m",
            "\u001b[0;31mNameError\u001b[0m                                 Traceback (most recent call last)",
            "\u001b[0;32m<ipython-input-29-ddc95aaeb486>\u001b[0m in \u001b[0;36m<module>\u001b[0;34m()\u001b[0m\n\u001b[0;32m----> 1\u001b[0;31m \u001b[0ma\u001b[0m\u001b[0;34m+\u001b[0m\u001b[0mb\u001b[0m\u001b[0;34m\u001b[0m\u001b[0;34m\u001b[0m\u001b[0m\n\u001b[0m",
            "\u001b[0;31mNameError\u001b[0m: name 'b' is not defined"
          ]
        }
      ]
    },
    {
      "cell_type": "code",
      "metadata": {
        "colab": {
          "base_uri": "https://localhost:8080/",
          "height": 163
        },
        "id": "He8_PNlBS04i",
        "outputId": "23402f0f-a937-4875-904f-bcadf1d49164"
      },
      "source": [
        "aaa + bbb "
      ],
      "execution_count": 4,
      "outputs": [
        {
          "output_type": "error",
          "ename": "NameError",
          "evalue": "ignored",
          "traceback": [
            "\u001b[0;31m---------------------------------------------------------------------------\u001b[0m",
            "\u001b[0;31mNameError\u001b[0m                                 Traceback (most recent call last)",
            "\u001b[0;32m<ipython-input-4-a31437254acb>\u001b[0m in \u001b[0;36m<module>\u001b[0;34m()\u001b[0m\n\u001b[0;32m----> 1\u001b[0;31m \u001b[0maaa\u001b[0m \u001b[0;34m+\u001b[0m \u001b[0mbbb\u001b[0m\u001b[0;34m\u001b[0m\u001b[0;34m\u001b[0m\u001b[0m\n\u001b[0m",
            "\u001b[0;31mNameError\u001b[0m: name 'bbb' is not defined"
          ]
        }
      ]
    },
    {
      "cell_type": "code",
      "metadata": {
        "colab": {
          "base_uri": "https://localhost:8080/",
          "height": 163
        },
        "id": "KX8wAYo4S25x",
        "outputId": "ec243a6f-186c-461c-fe4a-428052f76a32"
      },
      "source": [
        "aaa - bbb"
      ],
      "execution_count": null,
      "outputs": [
        {
          "output_type": "error",
          "ename": "TypeError",
          "evalue": "ignored",
          "traceback": [
            "\u001b[0;31m---------------------------------------------------------------------------\u001b[0m",
            "\u001b[0;31mTypeError\u001b[0m                                 Traceback (most recent call last)",
            "\u001b[0;32m<ipython-input-31-e98b310351bc>\u001b[0m in \u001b[0;36m<module>\u001b[0;34m()\u001b[0m\n\u001b[0;32m----> 1\u001b[0;31m \u001b[0maaa\u001b[0m \u001b[0;34m-\u001b[0m \u001b[0mbbb\u001b[0m\u001b[0;34m\u001b[0m\u001b[0;34m\u001b[0m\u001b[0m\n\u001b[0m",
            "\u001b[0;31mTypeError\u001b[0m: unsupported operand type(s) for -: 'int' and 'str'"
          ]
        }
      ]
    },
    {
      "cell_type": "code",
      "metadata": {
        "id": "tCQa6M26S63Z"
      },
      "source": [
        "ab = aaa*bbb"
      ],
      "execution_count": null,
      "outputs": []
    },
    {
      "cell_type": "code",
      "metadata": {
        "colab": {
          "base_uri": "https://localhost:8080/",
          "height": 163
        },
        "id": "geNtQW3FS8r5",
        "outputId": "8f7d37f2-9131-49a8-a3ff-a6f7fbf4094c"
      },
      "source": [
        "ab + int(ccc)"
      ],
      "execution_count": null,
      "outputs": [
        {
          "output_type": "error",
          "ename": "TypeError",
          "evalue": "ignored",
          "traceback": [
            "\u001b[0;31m---------------------------------------------------------------------------\u001b[0m",
            "\u001b[0;31mTypeError\u001b[0m                                 Traceback (most recent call last)",
            "\u001b[0;32m<ipython-input-33-2821f7a2859f>\u001b[0m in \u001b[0;36m<module>\u001b[0;34m()\u001b[0m\n\u001b[0;32m----> 1\u001b[0;31m \u001b[0mab\u001b[0m \u001b[0;34m+\u001b[0m \u001b[0mint\u001b[0m\u001b[0;34m(\u001b[0m\u001b[0mccc\u001b[0m\u001b[0;34m)\u001b[0m\u001b[0;34m\u001b[0m\u001b[0;34m\u001b[0m\u001b[0m\n\u001b[0m",
            "\u001b[0;31mTypeError\u001b[0m: must be str, not int"
          ]
        }
      ]
    },
    {
      "cell_type": "markdown",
      "metadata": {
        "id": "9HY7pBa7TjYA"
      },
      "source": [
        "% modulo หารเอาแต่เศษ"
      ]
    },
    {
      "cell_type": "code",
      "metadata": {
        "colab": {
          "base_uri": "https://localhost:8080/"
        },
        "id": "aBRhanF3Tctj",
        "outputId": "bab91412-43cd-48ee-ce01-65ff86af188d"
      },
      "source": [
        "5%3"
      ],
      "execution_count": null,
      "outputs": [
        {
          "output_type": "execute_result",
          "data": {
            "text/plain": [
              "2"
            ]
          },
          "metadata": {
            "tags": []
          },
          "execution_count": 34
        }
      ]
    },
    {
      "cell_type": "code",
      "metadata": {
        "colab": {
          "base_uri": "https://localhost:8080/"
        },
        "id": "ZY77Tt1ET1XB",
        "outputId": "b0e1a549-fe55-4e31-8a71-6c794e195481"
      },
      "source": [
        "7%3\r\n"
      ],
      "execution_count": null,
      "outputs": [
        {
          "output_type": "execute_result",
          "data": {
            "text/plain": [
              "1"
            ]
          },
          "metadata": {
            "tags": []
          },
          "execution_count": 35
        }
      ]
    },
    {
      "cell_type": "markdown",
      "metadata": {
        "id": "nTAjMscqUKBv"
      },
      "source": [
        "#คำสั่ง print แบบพิเศษ(การ format  string)"
      ]
    },
    {
      "cell_type": "code",
      "metadata": {
        "colab": {
          "base_uri": "https://localhost:8080/"
        },
        "id": "1vIrzghjT3P3",
        "outputId": "14b0f373-5f6f-4cf1-9680-f6e6ba1565bd"
      },
      "source": [
        "print('ตัวแปร') #สิ่งที่อยู่ข้องวงเล็บคือ ตัวแปร และ string\r\n",
        "% คือการหารเอาเศษ เช่น 7%3 = 1\r\n"
      ],
      "execution_count": null,
      "outputs": [
        {
          "output_type": "stream",
          "text": [
            "ตัวแปร\n"
          ],
          "name": "stdout"
        }
      ]
    },
    {
      "cell_type": "code",
      "metadata": {
        "colab": {
          "base_uri": "https://localhost:8080/"
        },
        "id": "XopDemtiUbLn",
        "outputId": "8e0c4a62-8501-45cb-8635-ac0bd1adc539"
      },
      "source": [
        "print(f'% คือการหาเอาเศษ เช่น 7%3 = {7%3}') # เพิ่ม f หน้า 'string'  และใช้ {} ใส่ code"
      ],
      "execution_count": null,
      "outputs": [
        {
          "output_type": "stream",
          "text": [
            "% คือการหาเอาเศษ เช่น 7%3 = 1\n"
          ],
          "name": "stdout"
        }
      ]
    },
    {
      "cell_type": "code",
      "metadata": {
        "id": "VBA_3qkRWY8P"
      },
      "source": [
        "print(f'% 8nvdkiskigvkgLK g=jo 7%3 = {7%3}\\\r\n",
        "แต่\\n/ คือการหารปกติ เช่น 7/3 = {7/3} \\\r\n"
      ],
      "execution_count": null,
      "outputs": []
    },
    {
      "cell_type": "markdown",
      "metadata": {
        "id": "iHLe3uKzW8DF"
      },
      "source": [
        "DATA STRUCTURE(โครงสร้างข้อมูล)"
      ]
    },
    {
      "cell_type": "markdown",
      "metadata": {
        "id": "fIEmKBBVXByr"
      },
      "source": [
        "list คือการเอสตัวแปรมาเรียงต่อกัน\r\n",
        "list สามารถสร้างได้ 2 แบบดังนี้ #คำสั่ง str ใช้กับ string ได้"
      ]
    },
    {
      "cell_type": "code",
      "metadata": {
        "colab": {
          "base_uri": "https://localhost:8080/"
        },
        "id": "uw04u5U4XRvR",
        "outputId": "890819c8-c369-4e07-cdeb-3fa481e9adfc"
      },
      "source": [
        "[111,'c','ข้อความ',aaa] #ข้อมูล ตัวอักษร ข้อ ความ ตัวแปร"
      ],
      "execution_count": null,
      "outputs": [
        {
          "output_type": "execute_result",
          "data": {
            "text/plain": [
              "[111, 'c', 'ข้อความ', 1092]"
            ]
          },
          "metadata": {
            "tags": []
          },
          "execution_count": 38
        }
      ]
    },
    {
      "cell_type": "markdown",
      "metadata": {
        "id": "EnmeXWyEXk1u"
      },
      "source": [
        "สร้างได้ 2 แบบ ดังนี้\r\n",
        "แบบที่ 1 > square brackets"
      ]
    },
    {
      "cell_type": "code",
      "metadata": {
        "colab": {
          "base_uri": "https://localhost:8080/"
        },
        "id": "1CmGqXSFXgNp",
        "outputId": "cc63e919-86ed-476c-bb75-96f0666f14d3"
      },
      "source": [
        "list_a = [] #ลำดับมีความสำคัญ 0,1,2,3\r\n",
        "print(list_a)"
      ],
      "execution_count": null,
      "outputs": [
        {
          "output_type": "stream",
          "text": [
            "[]\n"
          ],
          "name": "stdout"
        }
      ]
    },
    {
      "cell_type": "code",
      "metadata": {
        "id": "w4-6GZFYX9Aj",
        "outputId": "9b17961b-a4b8-46b7-a269-63e1b5bafe45",
        "colab": {
          "base_uri": "https://localhost:8080/"
        }
      },
      "source": [
        "list_b = [111,'c','งง',aaa]\r\n",
        "print(list_b)"
      ],
      "execution_count": 9,
      "outputs": [
        {
          "output_type": "stream",
          "text": [
            "[111, 'c', 'งง', 1092]\n"
          ],
          "name": "stdout"
        }
      ]
    },
    {
      "cell_type": "code",
      "metadata": {
        "colab": {
          "base_uri": "https://localhost:8080/",
          "height": 35
        },
        "id": "NEo1b6AiYSjG",
        "outputId": "d00d8bda-83b8-4a5f-92fa-5c8852d5aa96"
      },
      "source": [
        "list_b[2]\r\n"
      ],
      "execution_count": 10,
      "outputs": [
        {
          "output_type": "execute_result",
          "data": {
            "application/vnd.google.colaboratory.intrinsic+json": {
              "type": "string"
            },
            "text/plain": [
              "'งง'"
            ]
          },
          "metadata": {
            "tags": []
          },
          "execution_count": 10
        }
      ]
    },
    {
      "cell_type": "markdown",
      "metadata": {
        "id": "C_ceIuohYd6l"
      },
      "source": [
        "append() เพิ่มสามชิกใน list"
      ]
    },
    {
      "cell_type": "code",
      "metadata": {
        "id": "XE_3XpVDYdv3",
        "outputId": "54231648-0389-46b4-fcc0-34beaf29bc68",
        "colab": {
          "base_uri": "https://localhost:8080/",
          "height": 52
        }
      },
      "source": [
        "list_b.append('u')\r\n",
        "print(list_b)\r\n",
        "[111, 'c' , 'งง', 1092, 'u']\r\n",
        "list_b[-1] #ในวงเล็บ คือลำดับ,นับจากหลังมาหน้าให้ใส่ - ไว้ด้านหน้า (0 = ตัวแรก, -1 =ตัวสุดท้าย)"
      ],
      "execution_count": 11,
      "outputs": [
        {
          "output_type": "stream",
          "text": [
            "[111, 'c', 'งง', 1092, 'u']\n"
          ],
          "name": "stdout"
        },
        {
          "output_type": "execute_result",
          "data": {
            "application/vnd.google.colaboratory.intrinsic+json": {
              "type": "string"
            },
            "text/plain": [
              "'u'"
            ]
          },
          "metadata": {
            "tags": []
          },
          "execution_count": 11
        }
      ]
    },
    {
      "cell_type": "markdown",
      "metadata": {
        "id": "kD7ug4Vsp_BJ"
      },
      "source": [
        "String>list of characters"
      ]
    },
    {
      "cell_type": "code",
      "metadata": {
        "id": "LV1vcRsKqCzk",
        "outputId": "dcd51db2-a50e-4ce7-dfe4-4b47f9c0f4fc",
        "colab": {
          "base_uri": "https://localhost:8080/",
          "height": 35
        }
      },
      "source": [
        "t = 'python is easy'\r\n",
        "t"
      ],
      "execution_count": 12,
      "outputs": [
        {
          "output_type": "execute_result",
          "data": {
            "application/vnd.google.colaboratory.intrinsic+json": {
              "type": "string"
            },
            "text/plain": [
              "'python is easy'"
            ]
          },
          "metadata": {
            "tags": []
          },
          "execution_count": 12
        }
      ]
    },
    {
      "cell_type": "code",
      "metadata": {
        "id": "D5gi7kLOqFO0",
        "outputId": "599c1782-73dd-405c-b970-cf7ac404e7bd",
        "colab": {
          "base_uri": "https://localhost:8080/",
          "height": 35
        }
      },
      "source": [
        "t[1]"
      ],
      "execution_count": 13,
      "outputs": [
        {
          "output_type": "execute_result",
          "data": {
            "application/vnd.google.colaboratory.intrinsic+json": {
              "type": "string"
            },
            "text/plain": [
              "'y'"
            ]
          },
          "metadata": {
            "tags": []
          },
          "execution_count": 13
        }
      ]
    },
    {
      "cell_type": "code",
      "metadata": {
        "id": "mG6GJ4U1qHr9",
        "outputId": "a392e138-01f9-45a4-8451-74e2a2bd6c27",
        "colab": {
          "base_uri": "https://localhost:8080/",
          "height": 35
        }
      },
      "source": [
        "t[-4]"
      ],
      "execution_count": 14,
      "outputs": [
        {
          "output_type": "execute_result",
          "data": {
            "application/vnd.google.colaboratory.intrinsic+json": {
              "type": "string"
            },
            "text/plain": [
              "'e'"
            ]
          },
          "metadata": {
            "tags": []
          },
          "execution_count": 14
        }
      ]
    },
    {
      "cell_type": "code",
      "metadata": {
        "id": "Mi8jZLh0qA3I",
        "outputId": "df4d4919-b0a7-44c0-e07f-12394f623a2e",
        "colab": {
          "base_uri": "https://localhost:8080/",
          "height": 35
        }
      },
      "source": [
        "t[6]"
      ],
      "execution_count": 15,
      "outputs": [
        {
          "output_type": "execute_result",
          "data": {
            "application/vnd.google.colaboratory.intrinsic+json": {
              "type": "string"
            },
            "text/plain": [
              "' '"
            ]
          },
          "metadata": {
            "tags": []
          },
          "execution_count": 15
        }
      ]
    },
    {
      "cell_type": "markdown",
      "metadata": {
        "id": "y4sTyAi6qN1S"
      },
      "source": [
        "จบ 5 มค 2021"
      ]
    },
    {
      "cell_type": "code",
      "metadata": {
        "id": "atUXUsGgqKUa",
        "outputId": "67863758-29b4-4d53-a272-e171c957a35b",
        "colab": {
          "base_uri": "https://localhost:8080/"
        }
      },
      "source": [
        "len(t)  # นับ string(t) มีกี่ตัว"
      ],
      "execution_count": 16,
      "outputs": [
        {
          "output_type": "execute_result",
          "data": {
            "text/plain": [
              "14"
            ]
          },
          "metadata": {
            "tags": []
          },
          "execution_count": 16
        }
      ]
    },
    {
      "cell_type": "code",
      "metadata": {
        "id": "LuAh0r3nqSBF",
        "outputId": "e941f420-c0ef-474c-d18d-90bba71424de",
        "colab": {
          "base_uri": "https://localhost:8080/"
        }
      },
      "source": [
        "list_b"
      ],
      "execution_count": 17,
      "outputs": [
        {
          "output_type": "execute_result",
          "data": {
            "text/plain": [
              "[111, 'c', 'งง', 1092, 'u']"
            ]
          },
          "metadata": {
            "tags": []
          },
          "execution_count": 17
        }
      ]
    },
    {
      "cell_type": "code",
      "metadata": {
        "id": "uwv9K59uqQKh",
        "outputId": "8e066b20-4f22-4080-d74f-e277e88fa91e",
        "colab": {
          "base_uri": "https://localhost:8080/"
        }
      },
      "source": [
        "len(list_b)  # len คือคำสั่งตรวจสอบความยาวของ list (จำนวนสมาชิก)"
      ],
      "execution_count": 18,
      "outputs": [
        {
          "output_type": "execute_result",
          "data": {
            "text/plain": [
              "5"
            ]
          },
          "metadata": {
            "tags": []
          },
          "execution_count": 18
        }
      ]
    },
    {
      "cell_type": "code",
      "metadata": {
        "id": "Yhsd1NQfqUUx",
        "outputId": "2fdfa1ae-c2a7-43a4-9a73-2f182718fbb0",
        "colab": {
          "base_uri": "https://localhost:8080/"
        }
      },
      "source": [
        "list_b.append(t)\r\n",
        "print(list_b)"
      ],
      "execution_count": 19,
      "outputs": [
        {
          "output_type": "stream",
          "text": [
            "[111, 'c', 'งง', 1092, 'u', 'python is easy']\n"
          ],
          "name": "stdout"
        }
      ]
    },
    {
      "cell_type": "markdown",
      "metadata": {
        "id": "9fKd16uOqY_K"
      },
      "source": [
        "ตัวที่อยู่ข้างใน [ ] เราเรียกว่า index (ตัวชี้ตำแหน่ง)"
      ]
    },
    {
      "cell_type": "markdown",
      "metadata": {
        "id": "KG35pPXSqgeZ"
      },
      "source": [
        "List slicing สามารถทำได้โดยใช้ colon :\r\n",
        "[a:b] -> [a:b)"
      ]
    },
    {
      "cell_type": "code",
      "metadata": {
        "id": "RANq0shfqim0",
        "outputId": "76fb99b0-c0fd-4747-d2ef-f5a34e33025b",
        "colab": {
          "base_uri": "https://localhost:8080/"
        }
      },
      "source": [
        "print(t)\r\n",
        "print(t[7:9])  # ใช้:เป็นตัวเริ่มตัด หน้า: เริ่มเอา หลัง:คือสิ้นสุดตัวที่ไม่เอา (เช่น 9)\r\n",
        "print(len(t[7:9]))"
      ],
      "execution_count": 20,
      "outputs": [
        {
          "output_type": "stream",
          "text": [
            "python is easy\n",
            "is\n",
            "2\n"
          ],
          "name": "stdout"
        }
      ]
    },
    {
      "cell_type": "code",
      "metadata": {
        "id": "-CzCmLRyqlLs",
        "outputId": "d5147ab3-16ea-4e8b-f07e-e210bf1c1231",
        "colab": {
          "base_uri": "https://localhost:8080/",
          "height": 35
        }
      },
      "source": [
        "t[0:14:2]"
      ],
      "execution_count": 21,
      "outputs": [
        {
          "output_type": "execute_result",
          "data": {
            "application/vnd.google.colaboratory.intrinsic+json": {
              "type": "string"
            },
            "text/plain": [
              "'pto ses'"
            ]
          },
          "metadata": {
            "tags": []
          },
          "execution_count": 21
        }
      ]
    },
    {
      "cell_type": "markdown",
      "metadata": {
        "id": "k4gR2RwDqokN"
      },
      "source": [
        "quiz\r\n",
        "\r\n",
        "ให้ใช้ list slicing เลือกมาเฉพาะเลขคู๋"
      ]
    },
    {
      "cell_type": "code",
      "metadata": {
        "id": "BPGgF5-iqWeQ",
        "outputId": "00a93dea-cfb4-4826-e072-e13e586675bb",
        "colab": {
          "base_uri": "https://localhost:8080/"
        }
      },
      "source": [
        "Z = [1,2,3,4,5,6,7,8,9,10]  # quiz\r\n",
        "print(Z[1:10:2])  # มันเริ่ม0แต่เลือกเริ่มที่1 : แล้วให้จบที่10ตัว : เอาทุกๆ2ตัว"
      ],
      "execution_count": 22,
      "outputs": [
        {
          "output_type": "stream",
          "text": [
            "[2, 4, 6, 8, 10]\n"
          ],
          "name": "stdout"
        }
      ]
    },
    {
      "cell_type": "markdown",
      "metadata": {
        "id": "mOO2XbSnq2CL"
      },
      "source": [
        "ถ้าเว้นหน้า : หมายถึง เริ่มตั้งแต่ตัวแรก (0)\r\n",
        "\r\n",
        "ถ้าเว้นหลัง : หมายถึง ไปจนถึงตัวสุดท้าย (len(list))"
      ]
    },
    {
      "cell_type": "code",
      "metadata": {
        "id": "HjJphpKFqz4N",
        "outputId": "604f3791-eef9-42b6-dbf7-1304cfc8ea4c",
        "colab": {
          "base_uri": "https://localhost:8080/"
        }
      },
      "source": [
        "print(t)\r\n",
        "print(t[:6])  # หน้าเว้นว่างคือเริ่มตั้งแต่ตัวแรก0\r\n",
        "print(t[10:])  # หลังเว้นว่างตั้งแต่ตัดไปจนถึงตัวสุดท้าย\r\n",
        "print(t[-4:])  # เอาตัวที่4 นับจากข้างหลังมา\r\n",
        "print(t[:])  # เอามาเหมือนt"
      ],
      "execution_count": 23,
      "outputs": [
        {
          "output_type": "stream",
          "text": [
            "python is easy\n",
            "python\n",
            "easy\n",
            "easy\n",
            "python is easy\n"
          ],
          "name": "stdout"
        }
      ]
    },
    {
      "cell_type": "code",
      "metadata": {
        "id": "BDaKEI-grMT4",
        "outputId": "0737502e-de52-4ea4-9e35-bf7d50ab1c15",
        "colab": {
          "base_uri": "https://localhost:8080/"
        }
      },
      "source": [
        "print(Z[::2])  # เอาเลขคี่ คือ เริ่มตั้งแต่0จนถึงตัวสุดท้าย แล้วเอาทุกๆ2ตัว"
      ],
      "execution_count": 24,
      "outputs": [
        {
          "output_type": "stream",
          "text": [
            "[1, 3, 5, 7, 9]\n"
          ],
          "name": "stdout"
        }
      ]
    },
    {
      "cell_type": "markdown",
      "metadata": {
        "id": "pnz8Rn-srPNF"
      },
      "source": [
        "เราสามารถเอา list มาต่อกันได้ด้วย +"
      ]
    },
    {
      "cell_type": "code",
      "metadata": {
        "id": "3EjBsiInq4cC",
        "outputId": "ef09db06-2df4-4f78-a9f2-bed7c44146e2",
        "colab": {
          "base_uri": "https://localhost:8080/",
          "height": 35
        }
      },
      "source": [
        "t + '??'"
      ],
      "execution_count": 25,
      "outputs": [
        {
          "output_type": "execute_result",
          "data": {
            "application/vnd.google.colaboratory.intrinsic+json": {
              "type": "string"
            },
            "text/plain": [
              "'python is easy??'"
            ]
          },
          "metadata": {
            "tags": []
          },
          "execution_count": 25
        }
      ]
    },
    {
      "cell_type": "code",
      "metadata": {
        "id": "l7r_fYrwrW3Y",
        "outputId": "0b77a761-022f-437c-fdd6-7709e2599e00",
        "colab": {
          "base_uri": "https://localhost:8080/",
          "height": 163
        }
      },
      "source": [
        "t + list_b  # ไม่สามารถนำ list ปกติมาต่อกับ string ได้ (ไม่สามารถนำไปบวก list กันตรงๆได้)"
      ],
      "execution_count": 26,
      "outputs": [
        {
          "output_type": "error",
          "ename": "TypeError",
          "evalue": "ignored",
          "traceback": [
            "\u001b[0;31m---------------------------------------------------------------------------\u001b[0m",
            "\u001b[0;31mTypeError\u001b[0m                                 Traceback (most recent call last)",
            "\u001b[0;32m<ipython-input-26-9a113c32e507>\u001b[0m in \u001b[0;36m<module>\u001b[0;34m()\u001b[0m\n\u001b[0;32m----> 1\u001b[0;31m \u001b[0mt\u001b[0m \u001b[0;34m+\u001b[0m \u001b[0mlist_b\u001b[0m  \u001b[0;31m# ไม่สามารถนำ list ปกติมาต่อกับ string ได้ (ไม่สามารถนำไปบวก list กันตรงๆได้)\u001b[0m\u001b[0;34m\u001b[0m\u001b[0;34m\u001b[0m\u001b[0m\n\u001b[0m",
            "\u001b[0;31mTypeError\u001b[0m: must be str, not list"
          ]
        }
      ]
    },
    {
      "cell_type": "code",
      "metadata": {
        "id": "H9O6amBmrU31",
        "outputId": "cc013a3c-27ac-415b-e889-666ffb3d97ec",
        "colab": {
          "base_uri": "https://localhost:8080/",
          "height": 197
        }
      },
      "source": [
        "print(list_a)\r\n",
        "print(list_b)\r\n",
        "print(list_b + list_a)  # บวกคือเอาสมาชิกมารวมกัน"
      ],
      "execution_count": 27,
      "outputs": [
        {
          "output_type": "error",
          "ename": "NameError",
          "evalue": "ignored",
          "traceback": [
            "\u001b[0;31m---------------------------------------------------------------------------\u001b[0m",
            "\u001b[0;31mNameError\u001b[0m                                 Traceback (most recent call last)",
            "\u001b[0;32m<ipython-input-27-131576bbda3f>\u001b[0m in \u001b[0;36m<module>\u001b[0;34m()\u001b[0m\n\u001b[0;32m----> 1\u001b[0;31m \u001b[0mprint\u001b[0m\u001b[0;34m(\u001b[0m\u001b[0mlist_a\u001b[0m\u001b[0;34m)\u001b[0m\u001b[0;34m\u001b[0m\u001b[0;34m\u001b[0m\u001b[0m\n\u001b[0m\u001b[1;32m      2\u001b[0m \u001b[0mprint\u001b[0m\u001b[0;34m(\u001b[0m\u001b[0mlist_b\u001b[0m\u001b[0;34m)\u001b[0m\u001b[0;34m\u001b[0m\u001b[0;34m\u001b[0m\u001b[0m\n\u001b[1;32m      3\u001b[0m \u001b[0mprint\u001b[0m\u001b[0;34m(\u001b[0m\u001b[0mlist_b\u001b[0m \u001b[0;34m+\u001b[0m \u001b[0mlist_a\u001b[0m\u001b[0;34m)\u001b[0m  \u001b[0;31m# บวกคือเอาสมาชิกมารวมกัน\u001b[0m\u001b[0;34m\u001b[0m\u001b[0;34m\u001b[0m\u001b[0m\n",
            "\u001b[0;31mNameError\u001b[0m: name 'list_a' is not defined"
          ]
        }
      ]
    },
    {
      "cell_type": "code",
      "metadata": {
        "id": "ZBAgQbhlrhpJ",
        "outputId": "f7eaeb5a-148a-438f-8c21-cf0085d228c6",
        "colab": {
          "base_uri": "https://localhost:8080/",
          "height": 180
        }
      },
      "source": [
        "list_b.append(list_a)  # เอา list_a มาต่อสมาชิกของ list_b\r\n",
        "print(list_b)"
      ],
      "execution_count": 28,
      "outputs": [
        {
          "output_type": "error",
          "ename": "NameError",
          "evalue": "ignored",
          "traceback": [
            "\u001b[0;31m---------------------------------------------------------------------------\u001b[0m",
            "\u001b[0;31mNameError\u001b[0m                                 Traceback (most recent call last)",
            "\u001b[0;32m<ipython-input-28-e4ff83ccc01f>\u001b[0m in \u001b[0;36m<module>\u001b[0;34m()\u001b[0m\n\u001b[0;32m----> 1\u001b[0;31m \u001b[0mlist_b\u001b[0m\u001b[0;34m.\u001b[0m\u001b[0mappend\u001b[0m\u001b[0;34m(\u001b[0m\u001b[0mlist_a\u001b[0m\u001b[0;34m)\u001b[0m  \u001b[0;31m# เอา list_a มาต่อสมาชิกของ list_b\u001b[0m\u001b[0;34m\u001b[0m\u001b[0;34m\u001b[0m\u001b[0m\n\u001b[0m\u001b[1;32m      2\u001b[0m \u001b[0mprint\u001b[0m\u001b[0;34m(\u001b[0m\u001b[0mlist_b\u001b[0m\u001b[0;34m)\u001b[0m\u001b[0;34m\u001b[0m\u001b[0;34m\u001b[0m\u001b[0m\n",
            "\u001b[0;31mNameError\u001b[0m: name 'list_a' is not defined"
          ]
        }
      ]
    },
    {
      "cell_type": "markdown",
      "metadata": {
        "id": "QJ5H0bNLrqnQ"
      },
      "source": [
        "การแบ่ง string ตามสัญลักษณ์ที่กำหนด -> split string\r\n",
        "สามารถแบ่งtext ด้วยสัญลักษณ์"
      ]
    },
    {
      "cell_type": "code",
      "metadata": {
        "id": "dKKG1Zu8rmw5",
        "outputId": "29ab4890-38bb-4074-b493-e3ff6677cf9e",
        "colab": {
          "base_uri": "https://localhost:8080/",
          "height": 35
        }
      },
      "source": [
        "t"
      ],
      "execution_count": 29,
      "outputs": [
        {
          "output_type": "execute_result",
          "data": {
            "application/vnd.google.colaboratory.intrinsic+json": {
              "type": "string"
            },
            "text/plain": [
              "'python is easy'"
            ]
          },
          "metadata": {
            "tags": []
          },
          "execution_count": 29
        }
      ]
    },
    {
      "cell_type": "code",
      "metadata": {
        "id": "f3a5jw-crt_4",
        "outputId": "3f295a25-7317-4257-e7e7-4e5da59585c6",
        "colab": {
          "base_uri": "https://localhost:8080/"
        }
      },
      "source": [
        "t.split(' ')  # อันนี้เป็นการแบ่งstringด้วยช่องเว้นว่าง"
      ],
      "execution_count": 30,
      "outputs": [
        {
          "output_type": "execute_result",
          "data": {
            "text/plain": [
              "['python', 'is', 'easy']"
            ]
          },
          "metadata": {
            "tags": []
          },
          "execution_count": 30
        }
      ]
    },
    {
      "cell_type": "code",
      "metadata": {
        "id": "d6tyaY6mrwj5"
      },
      "source": [
        "time = '12:30:15'"
      ],
      "execution_count": 31,
      "outputs": []
    },
    {
      "cell_type": "code",
      "metadata": {
        "id": "AwYK7ZmkrynC",
        "outputId": "aea27c8d-39ac-4399-bc0e-a9f92f575d2e",
        "colab": {
          "base_uri": "https://localhost:8080/"
        }
      },
      "source": [
        "time.split(':')"
      ],
      "execution_count": 32,
      "outputs": [
        {
          "output_type": "execute_result",
          "data": {
            "text/plain": [
              "['12', '30', '15']"
            ]
          },
          "metadata": {
            "tags": []
          },
          "execution_count": 32
        }
      ]
    },
    {
      "cell_type": "code",
      "metadata": {
        "id": "Nm2n9OGBr0lZ",
        "outputId": "fbd54ec7-ef71-4101-9650-dd189da8cc0e",
        "colab": {
          "base_uri": "https://localhost:8080/"
        }
      },
      "source": [
        "t_sp = t.split(' ')\r\n",
        "print(t_sp)"
      ],
      "execution_count": 33,
      "outputs": [
        {
          "output_type": "stream",
          "text": [
            "['python', 'is', 'easy']\n"
          ],
          "name": "stdout"
        }
      ]
    },
    {
      "cell_type": "code",
      "metadata": {
        "id": "H3dRdPjlr2ay",
        "outputId": "06e878e1-32ec-4146-8ac0-c0aee014b43b",
        "colab": {
          "base_uri": "https://localhost:8080/"
        }
      },
      "source": [
        "# วิธีรวมกลับ (ไม่ค่อยได้ใช้)\r\n",
        "print(':'.join(t_sp))"
      ],
      "execution_count": 34,
      "outputs": [
        {
          "output_type": "stream",
          "text": [
            "python:is:easy\n"
          ],
          "name": "stdout"
        }
      ]
    },
    {
      "cell_type": "markdown",
      "metadata": {
        "id": "ha1zzxrcr9mD"
      },
      "source": [
        "HW คำนวณเวลาเป็นวินาทีของเวลาต่อไปนี้ โดยใช้คำสั่ง split() ช่วย (printออกมาให้สวยงาม)\r\n",
        "12:30:15\r\n",
        "\r\n",
        "13:41:07\r\n",
        "\r\n",
        "12:53:15\r\n",
        "\r\n",
        "00:59:25\r\n",
        "\r\n",
        "11:11:11\r\n",
        "\r\n",
        "16:06:09\r\n",
        "\r\n",
        "21:12:30\r\n",
        "\r\n",
        "10:06:15\r\n",
        "\r\n",
        "ตัวอย่าง > 00:01:10 = 70 นาที\r\n",
        "\r\n",
        "ตัวอย่าง > 01:00:01 = 3601 วินาที"
      ]
    },
    {
      "cell_type": "code",
      "metadata": {
        "id": "CY-43ZbGr4cJ",
        "outputId": "a1767e29-6045-4fe1-ab73-3234d981b1e7",
        "colab": {
          "base_uri": "https://localhost:8080/"
        }
      },
      "source": [
        "q1 = '12:30:15'\r\n",
        "q1.split(':')\r\n",
        "list_q1 = [12,30,15]\r\n",
        "h = list_q1[0]*3600  # 1 ชั่วโมง = 3600 วินาที\r\n",
        "m = list_q1[1]*60   # 1 นาที = 60 วินาที\r\n",
        "s = list_q1[2]\r\n",
        "ans_q1 = h+m+s\r\n",
        "print(ans_q1,'วินาที')"
      ],
      "execution_count": 35,
      "outputs": [
        {
          "output_type": "stream",
          "text": [
            "45015 วินาที\n"
          ],
          "name": "stdout"
        }
      ]
    },
    {
      "cell_type": "code",
      "metadata": {
        "id": "fICWiCNfsA6C",
        "outputId": "0577f816-a104-4935-b257-033df5f5115b",
        "colab": {
          "base_uri": "https://localhost:8080/"
        }
      },
      "source": [
        "q2 = '13:41:07'\r\n",
        "q2.split(':')\r\n",
        "list_q2 = [13,41,7]\r\n",
        "h = list_q2[0]*3600\r\n",
        "m = list_q2[1]*60\r\n",
        "s = list_q2[2]\r\n",
        "ans_q2 = h+m+s\r\n",
        "print(ans_q2,'วินาที')"
      ],
      "execution_count": 36,
      "outputs": [
        {
          "output_type": "stream",
          "text": [
            "49267 วินาที\n"
          ],
          "name": "stdout"
        }
      ]
    },
    {
      "cell_type": "code",
      "metadata": {
        "id": "DKPw1ZSQsDER",
        "outputId": "8cce6680-3f43-4d23-a3fe-f388fa0b5cf0",
        "colab": {
          "base_uri": "https://localhost:8080/"
        }
      },
      "source": [
        "q3 = '12:53:15'\r\n",
        "q3.split(':')\r\n",
        "list_q3 = [12,53,15]\r\n",
        "h = list_q3[0]*3600\r\n",
        "m = list_q3[1]*60\r\n",
        "s = list_q3[2]\r\n",
        "ans_q3 = h+m+s\r\n",
        "print(ans_q3,'วินาที')"
      ],
      "execution_count": 37,
      "outputs": [
        {
          "output_type": "stream",
          "text": [
            "46395 วินาที\n"
          ],
          "name": "stdout"
        }
      ]
    },
    {
      "cell_type": "code",
      "metadata": {
        "id": "SFxmrEejsEmx",
        "outputId": "2acfc24c-1dd5-45c5-f052-abf9e8e9c8db",
        "colab": {
          "base_uri": "https://localhost:8080/"
        }
      },
      "source": [
        "q4 = '00:59:25'\r\n",
        "q4.split(':')\r\n",
        "list_q4 = [00,59,25]\r\n",
        "h = list_q4[0]*3600\r\n",
        "m = list_q4[1]*60\r\n",
        "s = list_q4[2]\r\n",
        "ans_q4 = h+m+s\r\n",
        "print(ans_q4,'วินาที')"
      ],
      "execution_count": 38,
      "outputs": [
        {
          "output_type": "stream",
          "text": [
            "3565 วินาที\n"
          ],
          "name": "stdout"
        }
      ]
    },
    {
      "cell_type": "code",
      "metadata": {
        "id": "9Clmx4uRsGAo",
        "outputId": "842f4e79-306a-4216-c55e-09dbdcdf9d57",
        "colab": {
          "base_uri": "https://localhost:8080/"
        }
      },
      "source": [
        "q5 = '11:11:11'\r\n",
        "q5.split(':')\r\n",
        "list_q5 = [11,11,11]\r\n",
        "h = list_q5[0]*3600\r\n",
        "m = list_q5[1]*60\r\n",
        "s = list_q5[2]\r\n",
        "ans_q5 = h+m+s\r\n",
        "print(ans_q5,'วินาที')"
      ],
      "execution_count": 39,
      "outputs": [
        {
          "output_type": "stream",
          "text": [
            "40271 วินาที\n"
          ],
          "name": "stdout"
        }
      ]
    },
    {
      "cell_type": "code",
      "metadata": {
        "id": "WGTy-vFHsHMA",
        "outputId": "2f7e1711-7164-4f92-ac94-b7c2664e9c87",
        "colab": {
          "base_uri": "https://localhost:8080/"
        }
      },
      "source": [
        "q6 = '16:06:09'\r\n",
        "q6.split(':')\r\n",
        "list_q6 = [16,6,9]\r\n",
        "h = list_q6[0]*3600\r\n",
        "m = list_q6[1]*60\r\n",
        "s = list_q6[2]\r\n",
        "ans_q6 = h+m+s\r\n",
        "print(ans_q6,'วินาที')"
      ],
      "execution_count": 40,
      "outputs": [
        {
          "output_type": "stream",
          "text": [
            "57969 วินาที\n"
          ],
          "name": "stdout"
        }
      ]
    },
    {
      "cell_type": "code",
      "metadata": {
        "id": "ugE1pf25sIpZ",
        "outputId": "7a6d8e7a-5a8e-4b8e-883b-7d284dd48516",
        "colab": {
          "base_uri": "https://localhost:8080/"
        }
      },
      "source": [
        "q7 = '21:12:30'\r\n",
        "q7.split(':')\r\n",
        "list_q7 = [21,12,30]\r\n",
        "h = list_q7[0]*3600\r\n",
        "m = list_q7[1]*60\r\n",
        "s = list_q7[2]\r\n",
        "ans_q7 = h+m+s\r\n",
        "print(ans_q7,'วินาที')"
      ],
      "execution_count": 41,
      "outputs": [
        {
          "output_type": "stream",
          "text": [
            "76350 วินาที\n"
          ],
          "name": "stdout"
        }
      ]
    },
    {
      "cell_type": "code",
      "metadata": {
        "id": "o9O30BJOsKhB",
        "outputId": "80623256-ef5c-4249-9c54-62a9bbf7c7fe",
        "colab": {
          "base_uri": "https://localhost:8080/"
        }
      },
      "source": [
        "q8 = '10:06:15'\r\n",
        "q8.split(':')\r\n",
        "list_q8 = [10,6,15]\r\n",
        "h = list_q8[0]*3600\r\n",
        "m = list_q8[1]*60\r\n",
        "s = list_q8[2]\r\n",
        "ans_q8 = h+m+s\r\n",
        "print(ans_q8,'วินาที')"
      ],
      "execution_count": 42,
      "outputs": [
        {
          "output_type": "stream",
          "text": [
            "36375 วินาที\n"
          ],
          "name": "stdout"
        }
      ]
    },
    {
      "cell_type": "code",
      "metadata": {
        "id": "slg76jWdsMIo",
        "outputId": "c9cafa04-a71c-4fb6-b6d9-ec258dc2fbde",
        "colab": {
          "base_uri": "https://localhost:8080/"
        }
      },
      "source": [
        "q9 = '00:1:1'\r\n",
        "q9.split(':')\r\n",
        "list_q9 = [00,1,1]\r\n",
        "h = list_q9[0]*3600 \r\n",
        "m = list_q9[1]*60  \r\n",
        "s = list_q9[2]\r\n",
        "ans_q9 = h+m+s\r\n",
        "print(ans_q9,'วินาที')"
      ],
      "execution_count": 43,
      "outputs": [
        {
          "output_type": "stream",
          "text": [
            "61 วินาที\n"
          ],
          "name": "stdout"
        }
      ]
    },
    {
      "cell_type": "markdown",
      "metadata": {
        "id": "mw3ksjqfsSdl"
      },
      "source": [
        "เฉลยแบบแยกย่อย"
      ]
    },
    {
      "cell_type": "code",
      "metadata": {
        "id": "_3rEvACQsQoZ"
      },
      "source": [
        "q1 = '12:30:15'"
      ],
      "execution_count": 45,
      "outputs": []
    },
    {
      "cell_type": "code",
      "metadata": {
        "id": "ZaOm3JnCsUPh",
        "outputId": "8cd3b87a-2a35-46a5-c204-8ae709217901",
        "colab": {
          "base_uri": "https://localhost:8080/"
        }
      },
      "source": [
        "q1_sp = q1.split(':')\r\n",
        "print(q1_sp) "
      ],
      "execution_count": 46,
      "outputs": [
        {
          "output_type": "stream",
          "text": [
            "['12', '30', '15']\n"
          ],
          "name": "stdout"
        }
      ]
    },
    {
      "cell_type": "code",
      "metadata": {
        "id": "sbGmE_NUsVTB",
        "outputId": "3ac27d2e-7204-434e-d8cc-fc4f041caa73",
        "colab": {
          "base_uri": "https://localhost:8080/"
        }
      },
      "source": [
        "ans_1 = int(q1_sp[0])*3600 + int(q1_sp[1])*60 + int(q1_sp[2])\r\n",
        "print(ans_1) "
      ],
      "execution_count": 47,
      "outputs": [
        {
          "output_type": "stream",
          "text": [
            "45015\n"
          ],
          "name": "stdout"
        }
      ]
    },
    {
      "cell_type": "code",
      "metadata": {
        "id": "edTsz70MsWTy",
        "outputId": "403ff912-bcd7-420f-dfc3-b767b93f3459",
        "colab": {
          "base_uri": "https://localhost:8080/"
        }
      },
      "source": [
        "print(f'เวลา {q1} คำนวณเป็นจำนวนวินาทีได้เท่ากับ {ans_1}')"
      ],
      "execution_count": 48,
      "outputs": [
        {
          "output_type": "stream",
          "text": [
            "เวลา 12:30:15 คำนวณเป็นจำนวนวินาทีได้เท่ากับ 45015\n"
          ],
          "name": "stdout"
        }
      ]
    },
    {
      "cell_type": "markdown",
      "metadata": {
        "id": "1de2Sm6hsY3e"
      },
      "source": [
        "เฉลยแบบรวมเข้าด้วยกัน"
      ]
    },
    {
      "cell_type": "code",
      "metadata": {
        "id": "HTZEHRcmsXeR",
        "outputId": "412bce8e-eb87-4bbd-c7c5-22410bdeca92",
        "colab": {
          "base_uri": "https://localhost:8080/"
        }
      },
      "source": [
        "q1 = '12:30:15'\r\n",
        "q1_sp = q1.split(':')\r\n",
        "ans_1 = int(q1_sp[0])*3600 + int(q1_sp[1])*60 + int(q1_sp[2])\r\n",
        "print(f'เวลา {q1} คำนวณเป็นจำนวนวินาทีได้เท่ากับ {ans_1}')"
      ],
      "execution_count": 49,
      "outputs": [
        {
          "output_type": "stream",
          "text": [
            "เวลา 12:30:15 คำนวณเป็นจำนวนวินาทีได้เท่ากับ 45015\n"
          ],
          "name": "stdout"
        }
      ]
    },
    {
      "cell_type": "code",
      "metadata": {
        "id": "PHUoFUuasac4"
      },
      "source": [
        ""
      ],
      "execution_count": null,
      "outputs": []
    }
  ]
}