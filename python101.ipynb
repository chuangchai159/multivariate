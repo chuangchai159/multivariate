{
  "nbformat": 4,
  "nbformat_minor": 0,
  "metadata": {
    "colab": {
      "name": "python101.ipynb",
      "provenance": [],
      "collapsed_sections": [],
      "authorship_tag": "ABX9TyO2JOEbUDyDoXRWnQCkdRWR",
      "include_colab_link": true
    },
    "kernelspec": {
      "name": "python3",
      "display_name": "Python 3"
    }
  },
  "cells": [
    {
      "cell_type": "markdown",
      "metadata": {
        "id": "view-in-github",
        "colab_type": "text"
      },
      "source": [
        "<a href=\"https://colab.research.google.com/github/chuangchai159/multivariate/blob/main/python101.ipynb\" target=\"_parent\"><img src=\"https://colab.research.google.com/assets/colab-badge.svg\" alt=\"Open In Colab\"/></a>"
      ]
    },
    {
      "cell_type": "markdown",
      "metadata": {
        "id": "whjTBU5qLmZ6"
      },
      "source": [
        "ตัวแปร variable"
      ]
    },
    {
      "cell_type": "markdown",
      "metadata": {
        "id": "60z88VK2L8eE"
      },
      "source": [
        "หลักการตั้งชื่อตัวแปรเบื้องต้น\r\n",
        "1. ตั้งให้สื่อ\r\n",
        "2. ภาษาอังกฤษ\r\n",
        "3. ใช้ตัวเลยได้แต่ห้ามขึ้นต้นด้วยตัวเลข\r\n",
        "4. ห้ามเว้นวรรค\r\n",
        "5. ตัวเลขกับตัวใหญ่ต่างกัน\r\n"
      ]
    },
    {
      "cell_type": "code",
      "metadata": {
        "id": "Eyy1KCqcMRAl"
      },
      "source": [
        "pi = 3.1459\r\n"
      ],
      "execution_count": 5,
      "outputs": []
    },
    {
      "cell_type": "code",
      "metadata": {
        "colab": {
          "base_uri": "https://localhost:8080/"
        },
        "id": "MuQcwBLEL3-X",
        "outputId": "d23c4ba5-8073-427a-edd8-071f7140ff47"
      },
      "source": [
        "pi"
      ],
      "execution_count": 4,
      "outputs": [
        {
          "output_type": "execute_result",
          "data": {
            "text/plain": [
              "3.1459"
            ]
          },
          "metadata": {
            "tags": []
          },
          "execution_count": 4
        }
      ]
    },
    {
      "cell_type": "code",
      "metadata": {
        "colab": {
          "base_uri": "https://localhost:8080/"
        },
        "id": "p8yo7eBSN9T5",
        "outputId": "14bb337c-5e1e-4e9b-84de-ad1d84b367fd"
      },
      "source": [
        "a = 1234567\r\n",
        "print(a)  #พิมพ์ได้หลายบรรทัด # คือ comment\r\n"
      ],
      "execution_count": 7,
      "outputs": [
        {
          "output_type": "stream",
          "text": [
            "1234567\n"
          ],
          "name": "stdout"
        }
      ]
    },
    {
      "cell_type": "markdown",
      "metadata": {
        "id": "v__L5Jd5OYrS"
      },
      "source": [
        "#ชนิดของตัวแปร 3 ชนิด\r\n",
        "\r\n"
      ]
    },
    {
      "cell_type": "markdown",
      "metadata": {
        "id": "032fm8e8OzRi"
      },
      "source": [
        "##1.จำนวนเต็ม(integer,int)"
      ]
    },
    {
      "cell_type": "code",
      "metadata": {
        "colab": {
          "base_uri": "https://localhost:8080/"
        },
        "id": "CZr6mBa_O6Pg",
        "outputId": "e6954481-2f40-44b5-e00f-c835e8ba7840"
      },
      "source": [
        "aaa = 1092\r\n",
        "print(aaa)"
      ],
      "execution_count": 9,
      "outputs": [
        {
          "output_type": "stream",
          "text": [
            "1092\n"
          ],
          "name": "stdout"
        }
      ]
    },
    {
      "cell_type": "markdown",
      "metadata": {
        "id": "wzpggBVIOzAs"
      },
      "source": [
        "##2.จำนวนจริง (float)"
      ]
    },
    {
      "cell_type": "code",
      "metadata": {
        "colab": {
          "base_uri": "https://localhost:8080/"
        },
        "id": "F-67pG8mOwfG",
        "outputId": "12cd337a-6d2a-4c86-93d6-d12af6ffdbb4"
      },
      "source": [
        "bbb = 11.\r\n",
        "print(bbb)"
      ],
      "execution_count": 11,
      "outputs": [
        {
          "output_type": "stream",
          "text": [
            "11.0\n"
          ],
          "name": "stdout"
        }
      ]
    },
    {
      "cell_type": "markdown",
      "metadata": {
        "id": "9fVbBF8gPR3T"
      },
      "source": [
        "##3.ตัวอักษรและข้อความ(character และ text, string)"
      ]
    },
    {
      "cell_type": "code",
      "metadata": {
        "colab": {
          "base_uri": "https://localhost:8080/"
        },
        "id": "jBs-LH3DPOYR",
        "outputId": "e57331b0-07bd-4ca8-87b3-429523ffd8ac"
      },
      "source": [
        "ccc = '1234' # ใช้ single quote ' หรือ double quote \" ล้อมรอบตัวอักษรเพื่อบอกว่าเป็น character string\r\n",
        "print(ccc)\r\n"
      ],
      "execution_count": 17,
      "outputs": [
        {
          "output_type": "stream",
          "text": [
            "1234\n"
          ],
          "name": "stdout"
        }
      ]
    },
    {
      "cell_type": "code",
      "metadata": {
        "id": "ia0aps7wQFVp"
      },
      "source": [
        "aaa + bbb # float + int = float ทำได้"
      ],
      "execution_count": null,
      "outputs": []
    },
    {
      "cell_type": "code",
      "metadata": {
        "colab": {
          "base_uri": "https://localhost:8080/",
          "height": 35
        },
        "id": "Gl4ZGu0SQwYW",
        "outputId": "76281632-d076-4818-a976-a2d5889729ca"
      },
      "source": [
        "bbb + ccc #ไม่ได้"
      ],
      "execution_count": 22,
      "outputs": [
        {
          "output_type": "execute_result",
          "data": {
            "application/vnd.google.colaboratory.intrinsic+json": {
              "type": "string"
            },
            "text/plain": [
              "'1234'"
            ]
          },
          "metadata": {
            "tags": []
          },
          "execution_count": 22
        }
      ]
    },
    {
      "cell_type": "code",
      "metadata": {
        "colab": {
          "base_uri": "https://localhost:8080/"
        },
        "id": "u0aSq-dbQRf3",
        "outputId": "e4e19675-43b0-4d8f-b019-1b890187be95"
      },
      "source": [
        "aaa + int(ccc) # int + float = float\r\n"
      ],
      "execution_count": 25,
      "outputs": [
        {
          "output_type": "execute_result",
          "data": {
            "text/plain": [
              "2326"
            ]
          },
          "metadata": {
            "tags": []
          },
          "execution_count": 25
        }
      ]
    },
    {
      "cell_type": "code",
      "metadata": {
        "colab": {
          "base_uri": "https://localhost:8080/"
        },
        "id": "MVessj4BRYN7",
        "outputId": "8816797b-bc71-4aa9-a526-5001e6ee181f"
      },
      "source": [
        "aaa + float(ccc)"
      ],
      "execution_count": 26,
      "outputs": [
        {
          "output_type": "execute_result",
          "data": {
            "text/plain": [
              "2326.0"
            ]
          },
          "metadata": {
            "tags": []
          },
          "execution_count": 26
        }
      ]
    },
    {
      "cell_type": "code",
      "metadata": {
        "colab": {
          "base_uri": "https://localhost:8080/",
          "height": 35
        },
        "id": "MKdy3sxcRqDc",
        "outputId": "966bb114-8df9-480c-95d5-95a544b812ef"
      },
      "source": [
        "str(aaa)\r\n"
      ],
      "execution_count": 28,
      "outputs": [
        {
          "output_type": "execute_result",
          "data": {
            "application/vnd.google.colaboratory.intrinsic+json": {
              "type": "string"
            },
            "text/plain": [
              "'1092'"
            ]
          },
          "metadata": {
            "tags": []
          },
          "execution_count": 28
        }
      ]
    },
    {
      "cell_type": "markdown",
      "metadata": {
        "id": "etSslV2vSVfm"
      },
      "source": [
        "#การดำเนินการ Operation(Operators +,-,*,/,%)\r\n"
      ]
    },
    {
      "cell_type": "code",
      "metadata": {
        "colab": {
          "base_uri": "https://localhost:8080/",
          "height": 163
        },
        "id": "CG_RMEbiRtVS",
        "outputId": "3daee410-8ac4-4ffa-eeb2-926e872df73b"
      },
      "source": [
        "a+b  #error ตัวแปรไม่มี"
      ],
      "execution_count": 29,
      "outputs": [
        {
          "output_type": "error",
          "ename": "NameError",
          "evalue": "ignored",
          "traceback": [
            "\u001b[0;31m---------------------------------------------------------------------------\u001b[0m",
            "\u001b[0;31mNameError\u001b[0m                                 Traceback (most recent call last)",
            "\u001b[0;32m<ipython-input-29-ddc95aaeb486>\u001b[0m in \u001b[0;36m<module>\u001b[0;34m()\u001b[0m\n\u001b[0;32m----> 1\u001b[0;31m \u001b[0ma\u001b[0m\u001b[0;34m+\u001b[0m\u001b[0mb\u001b[0m\u001b[0;34m\u001b[0m\u001b[0;34m\u001b[0m\u001b[0m\n\u001b[0m",
            "\u001b[0;31mNameError\u001b[0m: name 'b' is not defined"
          ]
        }
      ]
    },
    {
      "cell_type": "code",
      "metadata": {
        "colab": {
          "base_uri": "https://localhost:8080/",
          "height": 163
        },
        "id": "He8_PNlBS04i",
        "outputId": "1fa58f26-4b25-420f-c42a-49a9fe0617c0"
      },
      "source": [
        "aaa + bbb"
      ],
      "execution_count": 30,
      "outputs": [
        {
          "output_type": "error",
          "ename": "TypeError",
          "evalue": "ignored",
          "traceback": [
            "\u001b[0;31m---------------------------------------------------------------------------\u001b[0m",
            "\u001b[0;31mTypeError\u001b[0m                                 Traceback (most recent call last)",
            "\u001b[0;32m<ipython-input-30-22ca32480802>\u001b[0m in \u001b[0;36m<module>\u001b[0;34m()\u001b[0m\n\u001b[0;32m----> 1\u001b[0;31m \u001b[0maaa\u001b[0m \u001b[0;34m+\u001b[0m \u001b[0mbbb\u001b[0m\u001b[0;34m\u001b[0m\u001b[0;34m\u001b[0m\u001b[0m\n\u001b[0m",
            "\u001b[0;31mTypeError\u001b[0m: unsupported operand type(s) for +: 'int' and 'str'"
          ]
        }
      ]
    },
    {
      "cell_type": "code",
      "metadata": {
        "colab": {
          "base_uri": "https://localhost:8080/",
          "height": 163
        },
        "id": "KX8wAYo4S25x",
        "outputId": "ec243a6f-186c-461c-fe4a-428052f76a32"
      },
      "source": [
        "aaa - bbb"
      ],
      "execution_count": 31,
      "outputs": [
        {
          "output_type": "error",
          "ename": "TypeError",
          "evalue": "ignored",
          "traceback": [
            "\u001b[0;31m---------------------------------------------------------------------------\u001b[0m",
            "\u001b[0;31mTypeError\u001b[0m                                 Traceback (most recent call last)",
            "\u001b[0;32m<ipython-input-31-e98b310351bc>\u001b[0m in \u001b[0;36m<module>\u001b[0;34m()\u001b[0m\n\u001b[0;32m----> 1\u001b[0;31m \u001b[0maaa\u001b[0m \u001b[0;34m-\u001b[0m \u001b[0mbbb\u001b[0m\u001b[0;34m\u001b[0m\u001b[0;34m\u001b[0m\u001b[0m\n\u001b[0m",
            "\u001b[0;31mTypeError\u001b[0m: unsupported operand type(s) for -: 'int' and 'str'"
          ]
        }
      ]
    },
    {
      "cell_type": "code",
      "metadata": {
        "id": "tCQa6M26S63Z"
      },
      "source": [
        "ab = aaa*bbb"
      ],
      "execution_count": 32,
      "outputs": []
    },
    {
      "cell_type": "code",
      "metadata": {
        "colab": {
          "base_uri": "https://localhost:8080/",
          "height": 163
        },
        "id": "geNtQW3FS8r5",
        "outputId": "8f7d37f2-9131-49a8-a3ff-a6f7fbf4094c"
      },
      "source": [
        "ab + int(ccc)"
      ],
      "execution_count": 33,
      "outputs": [
        {
          "output_type": "error",
          "ename": "TypeError",
          "evalue": "ignored",
          "traceback": [
            "\u001b[0;31m---------------------------------------------------------------------------\u001b[0m",
            "\u001b[0;31mTypeError\u001b[0m                                 Traceback (most recent call last)",
            "\u001b[0;32m<ipython-input-33-2821f7a2859f>\u001b[0m in \u001b[0;36m<module>\u001b[0;34m()\u001b[0m\n\u001b[0;32m----> 1\u001b[0;31m \u001b[0mab\u001b[0m \u001b[0;34m+\u001b[0m \u001b[0mint\u001b[0m\u001b[0;34m(\u001b[0m\u001b[0mccc\u001b[0m\u001b[0;34m)\u001b[0m\u001b[0;34m\u001b[0m\u001b[0;34m\u001b[0m\u001b[0m\n\u001b[0m",
            "\u001b[0;31mTypeError\u001b[0m: must be str, not int"
          ]
        }
      ]
    },
    {
      "cell_type": "markdown",
      "metadata": {
        "id": "9HY7pBa7TjYA"
      },
      "source": [
        "% modulo หารเอาแต่เศษ"
      ]
    },
    {
      "cell_type": "code",
      "metadata": {
        "colab": {
          "base_uri": "https://localhost:8080/"
        },
        "id": "aBRhanF3Tctj",
        "outputId": "bab91412-43cd-48ee-ce01-65ff86af188d"
      },
      "source": [
        "5%3"
      ],
      "execution_count": 34,
      "outputs": [
        {
          "output_type": "execute_result",
          "data": {
            "text/plain": [
              "2"
            ]
          },
          "metadata": {
            "tags": []
          },
          "execution_count": 34
        }
      ]
    },
    {
      "cell_type": "code",
      "metadata": {
        "colab": {
          "base_uri": "https://localhost:8080/"
        },
        "id": "ZY77Tt1ET1XB",
        "outputId": "b0e1a549-fe55-4e31-8a71-6c794e195481"
      },
      "source": [
        "7%3\r\n"
      ],
      "execution_count": 35,
      "outputs": [
        {
          "output_type": "execute_result",
          "data": {
            "text/plain": [
              "1"
            ]
          },
          "metadata": {
            "tags": []
          },
          "execution_count": 35
        }
      ]
    },
    {
      "cell_type": "markdown",
      "metadata": {
        "id": "nTAjMscqUKBv"
      },
      "source": [
        "#คำสั่ง print แบบพิเศษ(การ format  string)"
      ]
    },
    {
      "cell_type": "code",
      "metadata": {
        "colab": {
          "base_uri": "https://localhost:8080/"
        },
        "id": "1vIrzghjT3P3",
        "outputId": "14b0f373-5f6f-4cf1-9680-f6e6ba1565bd"
      },
      "source": [
        "print('ตัวแปร') #สิ่งที่อยู่ข้องวงเล็บคือ ตัวแปร และ string\r\n",
        "% คือการหารเอาเศษ เช่น 7%3 = 1\r\n"
      ],
      "execution_count": 36,
      "outputs": [
        {
          "output_type": "stream",
          "text": [
            "ตัวแปร\n"
          ],
          "name": "stdout"
        }
      ]
    },
    {
      "cell_type": "code",
      "metadata": {
        "colab": {
          "base_uri": "https://localhost:8080/"
        },
        "id": "XopDemtiUbLn",
        "outputId": "8e0c4a62-8501-45cb-8635-ac0bd1adc539"
      },
      "source": [
        "print(f'% คือการหาเอาเศษ เช่น 7%3 = {7%3}') # เพิ่ม f หน้า 'string'  และใช้ {} ใส่ code"
      ],
      "execution_count": 37,
      "outputs": [
        {
          "output_type": "stream",
          "text": [
            "% คือการหาเอาเศษ เช่น 7%3 = 1\n"
          ],
          "name": "stdout"
        }
      ]
    },
    {
      "cell_type": "code",
      "metadata": {
        "id": "VBA_3qkRWY8P"
      },
      "source": [
        "print(f'% 8nvdkiskigvkgLK g=jo 7%3 = {7%3}\\\r\n",
        "แต่\\n/ คือการหารปกติ เช่น 7/3 = {7/3} \\\r\n"
      ],
      "execution_count": null,
      "outputs": []
    },
    {
      "cell_type": "markdown",
      "metadata": {
        "id": "iHLe3uKzW8DF"
      },
      "source": [
        "DATA STRUCTURE(โครงสร้างข้อมูล)"
      ]
    },
    {
      "cell_type": "markdown",
      "metadata": {
        "id": "fIEmKBBVXByr"
      },
      "source": [
        "list คือการเอสตัวแปรมาเรียงต่อกัน\r\n",
        "list สามารถสร้างได้ 2 แบบดังนี้ #คำสั่ง str ใช้กับ string ได้"
      ]
    },
    {
      "cell_type": "code",
      "metadata": {
        "colab": {
          "base_uri": "https://localhost:8080/"
        },
        "id": "uw04u5U4XRvR",
        "outputId": "890819c8-c369-4e07-cdeb-3fa481e9adfc"
      },
      "source": [
        "[111,'c','ข้อความ',aaa] #ข้อมูล ตัวอักษร ข้อ ความ ตัวแปร"
      ],
      "execution_count": 38,
      "outputs": [
        {
          "output_type": "execute_result",
          "data": {
            "text/plain": [
              "[111, 'c', 'ข้อความ', 1092]"
            ]
          },
          "metadata": {
            "tags": []
          },
          "execution_count": 38
        }
      ]
    },
    {
      "cell_type": "markdown",
      "metadata": {
        "id": "EnmeXWyEXk1u"
      },
      "source": [
        "สร้างได้ 2 แบบ ดังนี้\r\n",
        "แบบที่ 1 > square brackets"
      ]
    },
    {
      "cell_type": "code",
      "metadata": {
        "colab": {
          "base_uri": "https://localhost:8080/"
        },
        "id": "1CmGqXSFXgNp",
        "outputId": "cc63e919-86ed-476c-bb75-96f0666f14d3"
      },
      "source": [
        "list_a = [] #ลำดับมีความสำคัญ 0,1,2,3\r\n",
        "print(list_a)"
      ],
      "execution_count": 39,
      "outputs": [
        {
          "output_type": "stream",
          "text": [
            "[]\n"
          ],
          "name": "stdout"
        }
      ]
    },
    {
      "cell_type": "code",
      "metadata": {
        "id": "w4-6GZFYX9Aj"
      },
      "source": [
        "list_b = {111,'c','งง',1092,}\r\n"
      ],
      "execution_count": 41,
      "outputs": []
    },
    {
      "cell_type": "code",
      "metadata": {
        "colab": {
          "base_uri": "https://localhost:8080/",
          "height": 163
        },
        "id": "NEo1b6AiYSjG",
        "outputId": "ed59a73c-fc8a-48ec-8d7f-75d41b893c1e"
      },
      "source": [
        "list_b[2]\r\n"
      ],
      "execution_count": 44,
      "outputs": [
        {
          "output_type": "error",
          "ename": "TypeError",
          "evalue": "ignored",
          "traceback": [
            "\u001b[0;31m---------------------------------------------------------------------------\u001b[0m",
            "\u001b[0;31mTypeError\u001b[0m                                 Traceback (most recent call last)",
            "\u001b[0;32m<ipython-input-44-8beba1046371>\u001b[0m in \u001b[0;36m<module>\u001b[0;34m()\u001b[0m\n\u001b[0;32m----> 1\u001b[0;31m \u001b[0mlist_b\u001b[0m\u001b[0;34m[\u001b[0m\u001b[0;36m2\u001b[0m\u001b[0;34m]\u001b[0m\u001b[0;34m\u001b[0m\u001b[0;34m\u001b[0m\u001b[0m\n\u001b[0m",
            "\u001b[0;31mTypeError\u001b[0m: 'set' object does not support indexing"
          ]
        }
      ]
    },
    {
      "cell_type": "markdown",
      "metadata": {
        "id": "C_ceIuohYd6l"
      },
      "source": [
        "append() เพิ่มสามชิกใน list"
      ]
    },
    {
      "cell_type": "code",
      "metadata": {
        "id": "XE_3XpVDYdv3"
      },
      "source": [
        "list_b.append('u')\r\n",
        "print(list_b)\r\n",
        "[111, 'c' , 'งง', 1092, 'u']\r\n",
        "list_b[] #ในวงเล็บ คือลำดับ,นับจากหลังมาหน้าให้ใส่ - ไว้ด้านหน้า (0 = ตัวแรก, -1 =ตัวสุดท้าย)"
      ],
      "execution_count": null,
      "outputs": []
    },
    {
      "cell_type": "markdown",
      "metadata": {
        "id": "ac1eu1fmZO57"
      },
      "source": [
        ""
      ]
    },
    {
      "cell_type": "code",
      "metadata": {
        "id": "F3WoNF1HYWHL"
      },
      "source": [
        "append() เพิ่มสามชิกใน list"
      ],
      "execution_count": null,
      "outputs": []
    }
  ]
}